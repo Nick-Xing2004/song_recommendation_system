{
 "cells": [
  {
   "cell_type": "code",
   "execution_count": 23,
   "metadata": {},
   "outputs": [],
   "source": [
    "import numpy as np\n",
    "import pandas as pd"
   ]
  },
  {
   "cell_type": "code",
   "execution_count": 25,
   "metadata": {},
   "outputs": [
    {
     "name": "stdout",
     "output_type": "stream",
     "text": [
      "        valence  year  acousticness  danceability  duration_ms  energy  \\\n",
      "0        0.0594  1921       0.98200         0.279       831667   0.211   \n",
      "1        0.9630  1921       0.73200         0.819       180533   0.341   \n",
      "2        0.0394  1921       0.96100         0.328       500062   0.166   \n",
      "3        0.1650  1921       0.96700         0.275       210000   0.309   \n",
      "4        0.2530  1921       0.95700         0.418       166693   0.193   \n",
      "...         ...   ...           ...           ...          ...     ...   \n",
      "170648   0.6080  2020       0.08460         0.786       301714   0.808   \n",
      "170649   0.7340  2020       0.20600         0.717       150654   0.753   \n",
      "170650   0.6370  2020       0.10100         0.634       211280   0.858   \n",
      "170651   0.1950  2020       0.00998         0.671       337147   0.623   \n",
      "170652   0.6420  2020       0.13200         0.856       189507   0.721   \n",
      "\n",
      "        instrumentalness  liveness  loudness  speechiness    tempo  \n",
      "0               0.878000    0.6650   -20.096       0.0366   80.954  \n",
      "1               0.000000    0.1600   -12.441       0.4150   60.936  \n",
      "2               0.913000    0.1010   -14.850       0.0339  110.339  \n",
      "3               0.000028    0.3810    -9.316       0.0354  100.109  \n",
      "4               0.000002    0.2290   -10.096       0.0380  101.665  \n",
      "...                  ...       ...       ...          ...      ...  \n",
      "170648          0.000289    0.0822    -3.702       0.0881  105.029  \n",
      "170649          0.000000    0.1010    -6.020       0.0605  137.936  \n",
      "170650          0.000009    0.2580    -2.226       0.0809   91.688  \n",
      "170651          0.000008    0.6430    -7.161       0.3080   75.055  \n",
      "170652          0.004710    0.1820    -4.928       0.1080   94.991  \n",
      "\n",
      "[170653 rows x 11 columns]\n"
     ]
    },
    {
     "data": {
      "text/plain": [
       "(170653, 11)"
      ]
     },
     "execution_count": 25,
     "metadata": {},
     "output_type": "execute_result"
    }
   ],
   "source": [
    "#read in data from the file\n",
    "df_song=pd.read_csv('./data.csv')\n",
    "df_song=df_song.drop(columns=['name', 'release_date', 'explicit', 'mode', 'id', 'key', 'artists'])\n",
    "y=df_song['popularity']\n",
    "X=df_song.drop(columns=['popularity'])\n",
    "print(X)\n",
    "X=X.to_numpy()\n",
    "y=y.to_numpy()\n",
    "X.shape\n"
   ]
  },
  {
   "cell_type": "code",
   "execution_count": null,
   "metadata": {},
   "outputs": [],
   "source": [
    "#data preprocessing \n"
   ]
  }
 ],
 "metadata": {
  "kernelspec": {
   "display_name": ".venv",
   "language": "python",
   "name": "python3"
  },
  "language_info": {
   "codemirror_mode": {
    "name": "ipython",
    "version": 3
   },
   "file_extension": ".py",
   "mimetype": "text/x-python",
   "name": "python",
   "nbconvert_exporter": "python",
   "pygments_lexer": "ipython3",
   "version": "3.12.4"
  }
 },
 "nbformat": 4,
 "nbformat_minor": 2
}
